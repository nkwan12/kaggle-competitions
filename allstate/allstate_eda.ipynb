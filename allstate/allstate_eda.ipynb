{
 "cells": [
  {
   "cell_type": "code",
   "execution_count": 59,
   "metadata": {
    "collapsed": true
   },
   "outputs": [],
   "source": [
    "import numpy as np\n",
    "import pandas as pd\n",
    "import warnings\n",
    "import matplotlib.pyplot as plt\n",
    "from pandas.tools.plotting import scatter_matrix\n",
    "from sklearn.cluster import KMeans\n",
    "from sklearn.decomposition import PCA\n",
    "from sklearn.linear_model import LinearRegression, Lasso, ElasticNet\n",
    "from sklearn.model_selection import cross_val_score\n",
    "from sklearn.ensemble import RandomForestRegressor\n",
    "\n",
    "warnings.filterwarnings(\"ignore\")\n",
    "%matplotlib inline\n",
    "plt.style.use(\"ggplot\")\n",
    "plt.rcParams[\"figure.figsize\"] = (12, 8)"
   ]
  },
  {
   "cell_type": "code",
   "execution_count": 2,
   "metadata": {
    "collapsed": true
   },
   "outputs": [],
   "source": [
    "fl1 = \"data_files/train.csv\"\n",
    "fl2 = \"data_files/test.csv\""
   ]
  },
  {
   "cell_type": "code",
   "execution_count": 3,
   "metadata": {
    "collapsed": true
   },
   "outputs": [],
   "source": [
    "train_df = pd.read_csv(fl1, header=0)\n",
    "test_df = pd.read_csv(fl2, header=0)"
   ]
  },
  {
   "cell_type": "code",
   "execution_count": 4,
   "metadata": {
    "collapsed": false
   },
   "outputs": [
    {
     "name": "stdout",
     "output_type": "stream",
     "text": [
      "(188318, 132)\n",
      "(125546, 131)\n"
     ]
    }
   ],
   "source": [
    "print(train_df.shape)\n",
    "print(test_df.shape)"
   ]
  },
  {
   "cell_type": "code",
   "execution_count": 61,
   "metadata": {
    "collapsed": true
   },
   "outputs": [],
   "source": [
    "tr_nulls = train_df.isnull().sum().to_frame().transpose()\n",
    "te_nulls = test_df.isnull().sum().to_frame().transpose()"
   ]
  },
  {
   "cell_type": "code",
   "execution_count": 65,
   "metadata": {
    "collapsed": false
   },
   "outputs": [],
   "source": [
    "# for c in te_nulls.columns:\n",
    "#     print(\"{}: {}\".format(c, tr_nulls[c][0]))"
   ]
  },
  {
   "cell_type": "code",
   "execution_count": 5,
   "metadata": {
    "collapsed": false
   },
   "outputs": [
    {
     "data": {
      "text/html": [
       "<div>\n",
       "<table border=\"1\" class=\"dataframe\">\n",
       "  <thead>\n",
       "    <tr style=\"text-align: right;\">\n",
       "      <th></th>\n",
       "      <th>id</th>\n",
       "      <th>cont1</th>\n",
       "      <th>cont2</th>\n",
       "      <th>cont3</th>\n",
       "      <th>cont4</th>\n",
       "      <th>cont5</th>\n",
       "      <th>cont6</th>\n",
       "      <th>cont7</th>\n",
       "      <th>cont8</th>\n",
       "      <th>cont9</th>\n",
       "      <th>cont10</th>\n",
       "      <th>cont11</th>\n",
       "      <th>cont12</th>\n",
       "      <th>cont13</th>\n",
       "      <th>cont14</th>\n",
       "      <th>loss</th>\n",
       "    </tr>\n",
       "  </thead>\n",
       "  <tbody>\n",
       "    <tr>\n",
       "      <th>id</th>\n",
       "      <td>1.000000</td>\n",
       "      <td>0.002130</td>\n",
       "      <td>0.000783</td>\n",
       "      <td>0.000816</td>\n",
       "      <td>0.002578</td>\n",
       "      <td>0.000775</td>\n",
       "      <td>0.001426</td>\n",
       "      <td>0.002209</td>\n",
       "      <td>0.005534</td>\n",
       "      <td>0.001870</td>\n",
       "      <td>0.002582</td>\n",
       "      <td>0.001075</td>\n",
       "      <td>0.000889</td>\n",
       "      <td>0.000442</td>\n",
       "      <td>-0.004924</td>\n",
       "      <td>-0.001122</td>\n",
       "    </tr>\n",
       "    <tr>\n",
       "      <th>cont1</th>\n",
       "      <td>0.002130</td>\n",
       "      <td>1.000000</td>\n",
       "      <td>-0.085180</td>\n",
       "      <td>-0.445431</td>\n",
       "      <td>0.367549</td>\n",
       "      <td>-0.025230</td>\n",
       "      <td>0.758315</td>\n",
       "      <td>0.367384</td>\n",
       "      <td>0.361163</td>\n",
       "      <td>0.929912</td>\n",
       "      <td>0.808551</td>\n",
       "      <td>0.596090</td>\n",
       "      <td>0.614225</td>\n",
       "      <td>0.534850</td>\n",
       "      <td>0.056688</td>\n",
       "      <td>-0.010237</td>\n",
       "    </tr>\n",
       "    <tr>\n",
       "      <th>cont2</th>\n",
       "      <td>0.000783</td>\n",
       "      <td>-0.085180</td>\n",
       "      <td>1.000000</td>\n",
       "      <td>0.455861</td>\n",
       "      <td>0.038693</td>\n",
       "      <td>0.191427</td>\n",
       "      <td>0.015864</td>\n",
       "      <td>0.048187</td>\n",
       "      <td>0.137468</td>\n",
       "      <td>-0.032729</td>\n",
       "      <td>0.063526</td>\n",
       "      <td>0.116824</td>\n",
       "      <td>0.106250</td>\n",
       "      <td>0.023335</td>\n",
       "      <td>-0.045584</td>\n",
       "      <td>0.141528</td>\n",
       "    </tr>\n",
       "    <tr>\n",
       "      <th>cont3</th>\n",
       "      <td>0.000816</td>\n",
       "      <td>-0.445431</td>\n",
       "      <td>0.455861</td>\n",
       "      <td>1.000000</td>\n",
       "      <td>-0.341633</td>\n",
       "      <td>0.089417</td>\n",
       "      <td>-0.349278</td>\n",
       "      <td>0.097516</td>\n",
       "      <td>-0.185432</td>\n",
       "      <td>-0.417054</td>\n",
       "      <td>-0.325562</td>\n",
       "      <td>0.025271</td>\n",
       "      <td>0.006111</td>\n",
       "      <td>-0.418203</td>\n",
       "      <td>-0.039592</td>\n",
       "      <td>0.111053</td>\n",
       "    </tr>\n",
       "    <tr>\n",
       "      <th>cont4</th>\n",
       "      <td>0.002578</td>\n",
       "      <td>0.367549</td>\n",
       "      <td>0.038693</td>\n",
       "      <td>-0.341633</td>\n",
       "      <td>1.000000</td>\n",
       "      <td>0.163748</td>\n",
       "      <td>0.220932</td>\n",
       "      <td>-0.115064</td>\n",
       "      <td>0.528740</td>\n",
       "      <td>0.328961</td>\n",
       "      <td>0.283294</td>\n",
       "      <td>0.120927</td>\n",
       "      <td>0.130453</td>\n",
       "      <td>0.179342</td>\n",
       "      <td>0.017445</td>\n",
       "      <td>-0.035831</td>\n",
       "    </tr>\n",
       "    <tr>\n",
       "      <th>cont5</th>\n",
       "      <td>0.000775</td>\n",
       "      <td>-0.025230</td>\n",
       "      <td>0.191427</td>\n",
       "      <td>0.089417</td>\n",
       "      <td>0.163748</td>\n",
       "      <td>1.000000</td>\n",
       "      <td>-0.149810</td>\n",
       "      <td>-0.249344</td>\n",
       "      <td>0.009015</td>\n",
       "      <td>-0.088202</td>\n",
       "      <td>-0.064967</td>\n",
       "      <td>-0.151548</td>\n",
       "      <td>-0.148217</td>\n",
       "      <td>-0.082915</td>\n",
       "      <td>-0.021638</td>\n",
       "      <td>-0.011355</td>\n",
       "    </tr>\n",
       "    <tr>\n",
       "      <th>cont6</th>\n",
       "      <td>0.001426</td>\n",
       "      <td>0.758315</td>\n",
       "      <td>0.015864</td>\n",
       "      <td>-0.349278</td>\n",
       "      <td>0.220932</td>\n",
       "      <td>-0.149810</td>\n",
       "      <td>1.000000</td>\n",
       "      <td>0.658918</td>\n",
       "      <td>0.437437</td>\n",
       "      <td>0.797544</td>\n",
       "      <td>0.883351</td>\n",
       "      <td>0.773745</td>\n",
       "      <td>0.785144</td>\n",
       "      <td>0.815091</td>\n",
       "      <td>0.042178</td>\n",
       "      <td>0.040967</td>\n",
       "    </tr>\n",
       "    <tr>\n",
       "      <th>cont7</th>\n",
       "      <td>0.002209</td>\n",
       "      <td>0.367384</td>\n",
       "      <td>0.048187</td>\n",
       "      <td>0.097516</td>\n",
       "      <td>-0.115064</td>\n",
       "      <td>-0.249344</td>\n",
       "      <td>0.658918</td>\n",
       "      <td>1.000000</td>\n",
       "      <td>0.142042</td>\n",
       "      <td>0.384343</td>\n",
       "      <td>0.492621</td>\n",
       "      <td>0.747108</td>\n",
       "      <td>0.742712</td>\n",
       "      <td>0.288395</td>\n",
       "      <td>0.022286</td>\n",
       "      <td>0.119799</td>\n",
       "    </tr>\n",
       "    <tr>\n",
       "      <th>cont8</th>\n",
       "      <td>0.005534</td>\n",
       "      <td>0.361163</td>\n",
       "      <td>0.137468</td>\n",
       "      <td>-0.185432</td>\n",
       "      <td>0.528740</td>\n",
       "      <td>0.009015</td>\n",
       "      <td>0.437437</td>\n",
       "      <td>0.142042</td>\n",
       "      <td>1.000000</td>\n",
       "      <td>0.452658</td>\n",
       "      <td>0.336588</td>\n",
       "      <td>0.302381</td>\n",
       "      <td>0.315904</td>\n",
       "      <td>0.476402</td>\n",
       "      <td>0.043539</td>\n",
       "      <td>0.030508</td>\n",
       "    </tr>\n",
       "    <tr>\n",
       "      <th>cont9</th>\n",
       "      <td>0.001870</td>\n",
       "      <td>0.929912</td>\n",
       "      <td>-0.032729</td>\n",
       "      <td>-0.417054</td>\n",
       "      <td>0.328961</td>\n",
       "      <td>-0.088202</td>\n",
       "      <td>0.797544</td>\n",
       "      <td>0.384343</td>\n",
       "      <td>0.452658</td>\n",
       "      <td>1.000000</td>\n",
       "      <td>0.785697</td>\n",
       "      <td>0.608000</td>\n",
       "      <td>0.626656</td>\n",
       "      <td>0.642028</td>\n",
       "      <td>0.074154</td>\n",
       "      <td>0.014456</td>\n",
       "    </tr>\n",
       "    <tr>\n",
       "      <th>cont10</th>\n",
       "      <td>0.002582</td>\n",
       "      <td>0.808551</td>\n",
       "      <td>0.063526</td>\n",
       "      <td>-0.325562</td>\n",
       "      <td>0.283294</td>\n",
       "      <td>-0.064967</td>\n",
       "      <td>0.883351</td>\n",
       "      <td>0.492621</td>\n",
       "      <td>0.336588</td>\n",
       "      <td>0.785697</td>\n",
       "      <td>1.000000</td>\n",
       "      <td>0.702896</td>\n",
       "      <td>0.713812</td>\n",
       "      <td>0.707876</td>\n",
       "      <td>0.041808</td>\n",
       "      <td>0.020236</td>\n",
       "    </tr>\n",
       "    <tr>\n",
       "      <th>cont11</th>\n",
       "      <td>0.001075</td>\n",
       "      <td>0.596090</td>\n",
       "      <td>0.116824</td>\n",
       "      <td>0.025271</td>\n",
       "      <td>0.120927</td>\n",
       "      <td>-0.151548</td>\n",
       "      <td>0.773745</td>\n",
       "      <td>0.747108</td>\n",
       "      <td>0.302381</td>\n",
       "      <td>0.608000</td>\n",
       "      <td>0.702896</td>\n",
       "      <td>1.000000</td>\n",
       "      <td>0.994384</td>\n",
       "      <td>0.466247</td>\n",
       "      <td>0.047293</td>\n",
       "      <td>0.099806</td>\n",
       "    </tr>\n",
       "    <tr>\n",
       "      <th>cont12</th>\n",
       "      <td>0.000889</td>\n",
       "      <td>0.614225</td>\n",
       "      <td>0.106250</td>\n",
       "      <td>0.006111</td>\n",
       "      <td>0.130453</td>\n",
       "      <td>-0.148217</td>\n",
       "      <td>0.785144</td>\n",
       "      <td>0.742712</td>\n",
       "      <td>0.315904</td>\n",
       "      <td>0.626656</td>\n",
       "      <td>0.713812</td>\n",
       "      <td>0.994384</td>\n",
       "      <td>1.000000</td>\n",
       "      <td>0.478677</td>\n",
       "      <td>0.050267</td>\n",
       "      <td>0.098724</td>\n",
       "    </tr>\n",
       "    <tr>\n",
       "      <th>cont13</th>\n",
       "      <td>0.000442</td>\n",
       "      <td>0.534850</td>\n",
       "      <td>0.023335</td>\n",
       "      <td>-0.418203</td>\n",
       "      <td>0.179342</td>\n",
       "      <td>-0.082915</td>\n",
       "      <td>0.815091</td>\n",
       "      <td>0.288395</td>\n",
       "      <td>0.476402</td>\n",
       "      <td>0.642028</td>\n",
       "      <td>0.707876</td>\n",
       "      <td>0.466247</td>\n",
       "      <td>0.478677</td>\n",
       "      <td>1.000000</td>\n",
       "      <td>0.047543</td>\n",
       "      <td>-0.004022</td>\n",
       "    </tr>\n",
       "    <tr>\n",
       "      <th>cont14</th>\n",
       "      <td>-0.004924</td>\n",
       "      <td>0.056688</td>\n",
       "      <td>-0.045584</td>\n",
       "      <td>-0.039592</td>\n",
       "      <td>0.017445</td>\n",
       "      <td>-0.021638</td>\n",
       "      <td>0.042178</td>\n",
       "      <td>0.022286</td>\n",
       "      <td>0.043539</td>\n",
       "      <td>0.074154</td>\n",
       "      <td>0.041808</td>\n",
       "      <td>0.047293</td>\n",
       "      <td>0.050267</td>\n",
       "      <td>0.047543</td>\n",
       "      <td>1.000000</td>\n",
       "      <td>0.019298</td>\n",
       "    </tr>\n",
       "    <tr>\n",
       "      <th>loss</th>\n",
       "      <td>-0.001122</td>\n",
       "      <td>-0.010237</td>\n",
       "      <td>0.141528</td>\n",
       "      <td>0.111053</td>\n",
       "      <td>-0.035831</td>\n",
       "      <td>-0.011355</td>\n",
       "      <td>0.040967</td>\n",
       "      <td>0.119799</td>\n",
       "      <td>0.030508</td>\n",
       "      <td>0.014456</td>\n",
       "      <td>0.020236</td>\n",
       "      <td>0.099806</td>\n",
       "      <td>0.098724</td>\n",
       "      <td>-0.004022</td>\n",
       "      <td>0.019298</td>\n",
       "      <td>1.000000</td>\n",
       "    </tr>\n",
       "  </tbody>\n",
       "</table>\n",
       "</div>"
      ],
      "text/plain": [
       "              id     cont1     cont2     cont3     cont4     cont5     cont6  \\\n",
       "id      1.000000  0.002130  0.000783  0.000816  0.002578  0.000775  0.001426   \n",
       "cont1   0.002130  1.000000 -0.085180 -0.445431  0.367549 -0.025230  0.758315   \n",
       "cont2   0.000783 -0.085180  1.000000  0.455861  0.038693  0.191427  0.015864   \n",
       "cont3   0.000816 -0.445431  0.455861  1.000000 -0.341633  0.089417 -0.349278   \n",
       "cont4   0.002578  0.367549  0.038693 -0.341633  1.000000  0.163748  0.220932   \n",
       "cont5   0.000775 -0.025230  0.191427  0.089417  0.163748  1.000000 -0.149810   \n",
       "cont6   0.001426  0.758315  0.015864 -0.349278  0.220932 -0.149810  1.000000   \n",
       "cont7   0.002209  0.367384  0.048187  0.097516 -0.115064 -0.249344  0.658918   \n",
       "cont8   0.005534  0.361163  0.137468 -0.185432  0.528740  0.009015  0.437437   \n",
       "cont9   0.001870  0.929912 -0.032729 -0.417054  0.328961 -0.088202  0.797544   \n",
       "cont10  0.002582  0.808551  0.063526 -0.325562  0.283294 -0.064967  0.883351   \n",
       "cont11  0.001075  0.596090  0.116824  0.025271  0.120927 -0.151548  0.773745   \n",
       "cont12  0.000889  0.614225  0.106250  0.006111  0.130453 -0.148217  0.785144   \n",
       "cont13  0.000442  0.534850  0.023335 -0.418203  0.179342 -0.082915  0.815091   \n",
       "cont14 -0.004924  0.056688 -0.045584 -0.039592  0.017445 -0.021638  0.042178   \n",
       "loss   -0.001122 -0.010237  0.141528  0.111053 -0.035831 -0.011355  0.040967   \n",
       "\n",
       "           cont7     cont8     cont9    cont10    cont11    cont12    cont13  \\\n",
       "id      0.002209  0.005534  0.001870  0.002582  0.001075  0.000889  0.000442   \n",
       "cont1   0.367384  0.361163  0.929912  0.808551  0.596090  0.614225  0.534850   \n",
       "cont2   0.048187  0.137468 -0.032729  0.063526  0.116824  0.106250  0.023335   \n",
       "cont3   0.097516 -0.185432 -0.417054 -0.325562  0.025271  0.006111 -0.418203   \n",
       "cont4  -0.115064  0.528740  0.328961  0.283294  0.120927  0.130453  0.179342   \n",
       "cont5  -0.249344  0.009015 -0.088202 -0.064967 -0.151548 -0.148217 -0.082915   \n",
       "cont6   0.658918  0.437437  0.797544  0.883351  0.773745  0.785144  0.815091   \n",
       "cont7   1.000000  0.142042  0.384343  0.492621  0.747108  0.742712  0.288395   \n",
       "cont8   0.142042  1.000000  0.452658  0.336588  0.302381  0.315904  0.476402   \n",
       "cont9   0.384343  0.452658  1.000000  0.785697  0.608000  0.626656  0.642028   \n",
       "cont10  0.492621  0.336588  0.785697  1.000000  0.702896  0.713812  0.707876   \n",
       "cont11  0.747108  0.302381  0.608000  0.702896  1.000000  0.994384  0.466247   \n",
       "cont12  0.742712  0.315904  0.626656  0.713812  0.994384  1.000000  0.478677   \n",
       "cont13  0.288395  0.476402  0.642028  0.707876  0.466247  0.478677  1.000000   \n",
       "cont14  0.022286  0.043539  0.074154  0.041808  0.047293  0.050267  0.047543   \n",
       "loss    0.119799  0.030508  0.014456  0.020236  0.099806  0.098724 -0.004022   \n",
       "\n",
       "          cont14      loss  \n",
       "id     -0.004924 -0.001122  \n",
       "cont1   0.056688 -0.010237  \n",
       "cont2  -0.045584  0.141528  \n",
       "cont3  -0.039592  0.111053  \n",
       "cont4   0.017445 -0.035831  \n",
       "cont5  -0.021638 -0.011355  \n",
       "cont6   0.042178  0.040967  \n",
       "cont7   0.022286  0.119799  \n",
       "cont8   0.043539  0.030508  \n",
       "cont9   0.074154  0.014456  \n",
       "cont10  0.041808  0.020236  \n",
       "cont11  0.047293  0.099806  \n",
       "cont12  0.050267  0.098724  \n",
       "cont13  0.047543 -0.004022  \n",
       "cont14  1.000000  0.019298  \n",
       "loss    0.019298  1.000000  "
      ]
     },
     "execution_count": 5,
     "metadata": {},
     "output_type": "execute_result"
    }
   ],
   "source": [
    "train_df.corr()"
   ]
  },
  {
   "cell_type": "code",
   "execution_count": 6,
   "metadata": {
    "collapsed": false,
    "scrolled": false
   },
   "outputs": [],
   "source": [
    "# scatter_matrix(train_df, alpha=0.2, diagonal='kde')"
   ]
  },
  {
   "cell_type": "code",
   "execution_count": 7,
   "metadata": {
    "collapsed": false
   },
   "outputs": [
    {
     "name": "stdout",
     "output_type": "stream",
     "text": [
      "0.67\n",
      "121012.25\n"
     ]
    }
   ],
   "source": [
    "print(train_df['loss'].min())\n",
    "print(train_df['loss'].max())"
   ]
  },
  {
   "cell_type": "code",
   "execution_count": 8,
   "metadata": {
    "collapsed": false
   },
   "outputs": [
    {
     "data": {
      "text/plain": [
       "<matplotlib.axes._subplots.AxesSubplot at 0x118129240>"
      ]
     },
     "execution_count": 8,
     "metadata": {},
     "output_type": "execute_result"
    },
    {
     "data": {
      "image/png": "[encoded data removed]",
      "text/plain": [
       "<matplotlib.figure.Figure at 0x104146b38>"
      ]
     },
     "metadata": {},
     "output_type": "display_data"
    }
   ],
   "source": [
    "train_df['loss'].plot.hist(bins=100, color=\"darkred\")"
   ]
  },
  {
   "cell_type": "code",
   "execution_count": 9,
   "metadata": {
    "collapsed": false
   },
   "outputs": [
    {
     "data": {
      "text/plain": [
       "<matplotlib.axes._subplots.AxesSubplot at 0x11803ac88>"
      ]
     },
     "execution_count": 9,
     "metadata": {},
     "output_type": "execute_result"
    },
    {
     "data": {
      "image/png": "[encoded data removed]",
      "text/plain": [
       "<matplotlib.figure.Figure at 0x11823ceb8>"
      ]
     },
     "metadata": {},
     "output_type": "display_data"
    }
   ],
   "source": [
    "np.log(train_df['loss']).plot.hist(bins=100, color=\"darkred\")"
   ]
  },
  {
   "cell_type": "code",
   "execution_count": 10,
   "metadata": {
    "collapsed": true
   },
   "outputs": [],
   "source": [
    "train_df2 = train_df.copy()"
   ]
  },
  {
   "cell_type": "code",
   "execution_count": 11,
   "metadata": {
    "collapsed": true
   },
   "outputs": [],
   "source": [
    "train_df2['log_loss'] = train_df['loss'].map(lambda x: np.log(x))"
   ]
  },
  {
   "cell_type": "code",
   "execution_count": 12,
   "metadata": {
    "collapsed": false
   },
   "outputs": [
    {
     "data": {
      "text/html": [
       "<div>\n",
       "<table border=\"1\" class=\"dataframe\">\n",
       "  <thead>\n",
       "    <tr style=\"text-align: right;\">\n",
       "      <th></th>\n",
       "      <th>id</th>\n",
       "      <th>cont1</th>\n",
       "      <th>cont2</th>\n",
       "      <th>cont3</th>\n",
       "      <th>cont4</th>\n",
       "      <th>cont5</th>\n",
       "      <th>cont6</th>\n",
       "      <th>cont7</th>\n",
       "      <th>cont8</th>\n",
       "      <th>cont9</th>\n",
       "      <th>cont10</th>\n",
       "      <th>cont11</th>\n",
       "      <th>cont12</th>\n",
       "      <th>cont13</th>\n",
       "      <th>cont14</th>\n",
       "      <th>loss</th>\n",
       "      <th>log_loss</th>\n",
       "    </tr>\n",
       "  </thead>\n",
       "  <tbody>\n",
       "    <tr>\n",
       "      <th>id</th>\n",
       "      <td>1.000000</td>\n",
       "      <td>0.002130</td>\n",
       "      <td>0.000783</td>\n",
       "      <td>0.000816</td>\n",
       "      <td>0.002578</td>\n",
       "      <td>0.000775</td>\n",
       "      <td>0.001426</td>\n",
       "      <td>0.002209</td>\n",
       "      <td>0.005534</td>\n",
       "      <td>0.001870</td>\n",
       "      <td>0.002582</td>\n",
       "      <td>0.001075</td>\n",
       "      <td>0.000889</td>\n",
       "      <td>0.000442</td>\n",
       "      <td>-0.004924</td>\n",
       "      <td>-0.001122</td>\n",
       "      <td>-0.000022</td>\n",
       "    </tr>\n",
       "    <tr>\n",
       "      <th>cont1</th>\n",
       "      <td>0.002130</td>\n",
       "      <td>1.000000</td>\n",
       "      <td>-0.085180</td>\n",
       "      <td>-0.445431</td>\n",
       "      <td>0.367549</td>\n",
       "      <td>-0.025230</td>\n",
       "      <td>0.758315</td>\n",
       "      <td>0.367384</td>\n",
       "      <td>0.361163</td>\n",
       "      <td>0.929912</td>\n",
       "      <td>0.808551</td>\n",
       "      <td>0.596090</td>\n",
       "      <td>0.614225</td>\n",
       "      <td>0.534850</td>\n",
       "      <td>0.056688</td>\n",
       "      <td>-0.010237</td>\n",
       "      <td>-0.007325</td>\n",
       "    </tr>\n",
       "    <tr>\n",
       "      <th>cont2</th>\n",
       "      <td>0.000783</td>\n",
       "      <td>-0.085180</td>\n",
       "      <td>1.000000</td>\n",
       "      <td>0.455861</td>\n",
       "      <td>0.038693</td>\n",
       "      <td>0.191427</td>\n",
       "      <td>0.015864</td>\n",
       "      <td>0.048187</td>\n",
       "      <td>0.137468</td>\n",
       "      <td>-0.032729</td>\n",
       "      <td>0.063526</td>\n",
       "      <td>0.116824</td>\n",
       "      <td>0.106250</td>\n",
       "      <td>0.023335</td>\n",
       "      <td>-0.045584</td>\n",
       "      <td>0.141528</td>\n",
       "      <td>0.104627</td>\n",
       "    </tr>\n",
       "    <tr>\n",
       "      <th>cont3</th>\n",
       "      <td>0.000816</td>\n",
       "      <td>-0.445431</td>\n",
       "      <td>0.455861</td>\n",
       "      <td>1.000000</td>\n",
       "      <td>-0.341633</td>\n",
       "      <td>0.089417</td>\n",
       "      <td>-0.349278</td>\n",
       "      <td>0.097516</td>\n",
       "      <td>-0.185432</td>\n",
       "      <td>-0.417054</td>\n",
       "      <td>-0.325562</td>\n",
       "      <td>0.025271</td>\n",
       "      <td>0.006111</td>\n",
       "      <td>-0.418203</td>\n",
       "      <td>-0.039592</td>\n",
       "      <td>0.111053</td>\n",
       "      <td>0.081518</td>\n",
       "    </tr>\n",
       "    <tr>\n",
       "      <th>cont4</th>\n",
       "      <td>0.002578</td>\n",
       "      <td>0.367549</td>\n",
       "      <td>0.038693</td>\n",
       "      <td>-0.341633</td>\n",
       "      <td>1.000000</td>\n",
       "      <td>0.163748</td>\n",
       "      <td>0.220932</td>\n",
       "      <td>-0.115064</td>\n",
       "      <td>0.528740</td>\n",
       "      <td>0.328961</td>\n",
       "      <td>0.283294</td>\n",
       "      <td>0.120927</td>\n",
       "      <td>0.130453</td>\n",
       "      <td>0.179342</td>\n",
       "      <td>0.017445</td>\n",
       "      <td>-0.035831</td>\n",
       "      <td>-0.027521</td>\n",
       "    </tr>\n",
       "    <tr>\n",
       "      <th>cont5</th>\n",
       "      <td>0.000775</td>\n",
       "      <td>-0.025230</td>\n",
       "      <td>0.191427</td>\n",
       "      <td>0.089417</td>\n",
       "      <td>0.163748</td>\n",
       "      <td>1.000000</td>\n",
       "      <td>-0.149810</td>\n",
       "      <td>-0.249344</td>\n",
       "      <td>0.009015</td>\n",
       "      <td>-0.088202</td>\n",
       "      <td>-0.064967</td>\n",
       "      <td>-0.151548</td>\n",
       "      <td>-0.148217</td>\n",
       "      <td>-0.082915</td>\n",
       "      <td>-0.021638</td>\n",
       "      <td>-0.011355</td>\n",
       "      <td>-0.014962</td>\n",
       "    </tr>\n",
       "    <tr>\n",
       "      <th>cont6</th>\n",
       "      <td>0.001426</td>\n",
       "      <td>0.758315</td>\n",
       "      <td>0.015864</td>\n",
       "      <td>-0.349278</td>\n",
       "      <td>0.220932</td>\n",
       "      <td>-0.149810</td>\n",
       "      <td>1.000000</td>\n",
       "      <td>0.658918</td>\n",
       "      <td>0.437437</td>\n",
       "      <td>0.797544</td>\n",
       "      <td>0.883351</td>\n",
       "      <td>0.773745</td>\n",
       "      <td>0.785144</td>\n",
       "      <td>0.815091</td>\n",
       "      <td>0.042178</td>\n",
       "      <td>0.040967</td>\n",
       "      <td>0.031509</td>\n",
       "    </tr>\n",
       "    <tr>\n",
       "      <th>cont7</th>\n",
       "      <td>0.002209</td>\n",
       "      <td>0.367384</td>\n",
       "      <td>0.048187</td>\n",
       "      <td>0.097516</td>\n",
       "      <td>-0.115064</td>\n",
       "      <td>-0.249344</td>\n",
       "      <td>0.658918</td>\n",
       "      <td>1.000000</td>\n",
       "      <td>0.142042</td>\n",
       "      <td>0.384343</td>\n",
       "      <td>0.492621</td>\n",
       "      <td>0.747108</td>\n",
       "      <td>0.742712</td>\n",
       "      <td>0.288395</td>\n",
       "      <td>0.022286</td>\n",
       "      <td>0.119799</td>\n",
       "      <td>0.085073</td>\n",
       "    </tr>\n",
       "    <tr>\n",
       "      <th>cont8</th>\n",
       "      <td>0.005534</td>\n",
       "      <td>0.361163</td>\n",
       "      <td>0.137468</td>\n",
       "      <td>-0.185432</td>\n",
       "      <td>0.528740</td>\n",
       "      <td>0.009015</td>\n",
       "      <td>0.437437</td>\n",
       "      <td>0.142042</td>\n",
       "      <td>1.000000</td>\n",
       "      <td>0.452658</td>\n",
       "      <td>0.336588</td>\n",
       "      <td>0.302381</td>\n",
       "      <td>0.315904</td>\n",
       "      <td>0.476402</td>\n",
       "      <td>0.043539</td>\n",
       "      <td>0.030508</td>\n",
       "      <td>0.032028</td>\n",
       "    </tr>\n",
       "    <tr>\n",
       "      <th>cont9</th>\n",
       "      <td>0.001870</td>\n",
       "      <td>0.929912</td>\n",
       "      <td>-0.032729</td>\n",
       "      <td>-0.417054</td>\n",
       "      <td>0.328961</td>\n",
       "      <td>-0.088202</td>\n",
       "      <td>0.797544</td>\n",
       "      <td>0.384343</td>\n",
       "      <td>0.452658</td>\n",
       "      <td>1.000000</td>\n",
       "      <td>0.785697</td>\n",
       "      <td>0.608000</td>\n",
       "      <td>0.626656</td>\n",
       "      <td>0.642028</td>\n",
       "      <td>0.074154</td>\n",
       "      <td>0.014456</td>\n",
       "      <td>0.017422</td>\n",
       "    </tr>\n",
       "    <tr>\n",
       "      <th>cont10</th>\n",
       "      <td>0.002582</td>\n",
       "      <td>0.808551</td>\n",
       "      <td>0.063526</td>\n",
       "      <td>-0.325562</td>\n",
       "      <td>0.283294</td>\n",
       "      <td>-0.064967</td>\n",
       "      <td>0.883351</td>\n",
       "      <td>0.492621</td>\n",
       "      <td>0.336588</td>\n",
       "      <td>0.785697</td>\n",
       "      <td>1.000000</td>\n",
       "      <td>0.702896</td>\n",
       "      <td>0.713812</td>\n",
       "      <td>0.707876</td>\n",
       "      <td>0.041808</td>\n",
       "      <td>0.020236</td>\n",
       "      <td>0.010599</td>\n",
       "    </tr>\n",
       "    <tr>\n",
       "      <th>cont11</th>\n",
       "      <td>0.001075</td>\n",
       "      <td>0.596090</td>\n",
       "      <td>0.116824</td>\n",
       "      <td>0.025271</td>\n",
       "      <td>0.120927</td>\n",
       "      <td>-0.151548</td>\n",
       "      <td>0.773745</td>\n",
       "      <td>0.747108</td>\n",
       "      <td>0.302381</td>\n",
       "      <td>0.608000</td>\n",
       "      <td>0.702896</td>\n",
       "      <td>1.000000</td>\n",
       "      <td>0.994384</td>\n",
       "      <td>0.466247</td>\n",
       "      <td>0.047293</td>\n",
       "      <td>0.099806</td>\n",
       "      <td>0.072740</td>\n",
       "    </tr>\n",
       "    <tr>\n",
       "      <th>cont12</th>\n",
       "      <td>0.000889</td>\n",
       "      <td>0.614225</td>\n",
       "      <td>0.106250</td>\n",
       "      <td>0.006111</td>\n",
       "      <td>0.130453</td>\n",
       "      <td>-0.148217</td>\n",
       "      <td>0.785144</td>\n",
       "      <td>0.742712</td>\n",
       "      <td>0.315904</td>\n",
       "      <td>0.626656</td>\n",
       "      <td>0.713812</td>\n",
       "      <td>0.994384</td>\n",
       "      <td>1.000000</td>\n",
       "      <td>0.478677</td>\n",
       "      <td>0.050267</td>\n",
       "      <td>0.098724</td>\n",
       "      <td>0.072246</td>\n",
       "    </tr>\n",
       "    <tr>\n",
       "      <th>cont13</th>\n",
       "      <td>0.000442</td>\n",
       "      <td>0.534850</td>\n",
       "      <td>0.023335</td>\n",
       "      <td>-0.418203</td>\n",
       "      <td>0.179342</td>\n",
       "      <td>-0.082915</td>\n",
       "      <td>0.815091</td>\n",
       "      <td>0.288395</td>\n",
       "      <td>0.476402</td>\n",
       "      <td>0.642028</td>\n",
       "      <td>0.707876</td>\n",
       "      <td>0.466247</td>\n",
       "      <td>0.478677</td>\n",
       "      <td>1.000000</td>\n",
       "      <td>0.047543</td>\n",
       "      <td>-0.004022</td>\n",
       "      <td>0.003278</td>\n",
       "    </tr>\n",
       "    <tr>\n",
       "      <th>cont14</th>\n",
       "      <td>-0.004924</td>\n",
       "      <td>0.056688</td>\n",
       "      <td>-0.045584</td>\n",
       "      <td>-0.039592</td>\n",
       "      <td>0.017445</td>\n",
       "      <td>-0.021638</td>\n",
       "      <td>0.042178</td>\n",
       "      <td>0.022286</td>\n",
       "      <td>0.043539</td>\n",
       "      <td>0.074154</td>\n",
       "      <td>0.041808</td>\n",
       "      <td>0.047293</td>\n",
       "      <td>0.050267</td>\n",
       "      <td>0.047543</td>\n",
       "      <td>1.000000</td>\n",
       "      <td>0.019298</td>\n",
       "      <td>0.025960</td>\n",
       "    </tr>\n",
       "    <tr>\n",
       "      <th>loss</th>\n",
       "      <td>-0.001122</td>\n",
       "      <td>-0.010237</td>\n",
       "      <td>0.141528</td>\n",
       "      <td>0.111053</td>\n",
       "      <td>-0.035831</td>\n",
       "      <td>-0.011355</td>\n",
       "      <td>0.040967</td>\n",
       "      <td>0.119799</td>\n",
       "      <td>0.030508</td>\n",
       "      <td>0.014456</td>\n",
       "      <td>0.020236</td>\n",
       "      <td>0.099806</td>\n",
       "      <td>0.098724</td>\n",
       "      <td>-0.004022</td>\n",
       "      <td>0.019298</td>\n",
       "      <td>1.000000</td>\n",
       "      <td>0.857526</td>\n",
       "    </tr>\n",
       "    <tr>\n",
       "      <th>log_loss</th>\n",
       "      <td>-0.000022</td>\n",
       "      <td>-0.007325</td>\n",
       "      <td>0.104627</td>\n",
       "      <td>0.081518</td>\n",
       "      <td>-0.027521</td>\n",
       "      <td>-0.014962</td>\n",
       "      <td>0.031509</td>\n",
       "      <td>0.085073</td>\n",
       "      <td>0.032028</td>\n",
       "      <td>0.017422</td>\n",
       "      <td>0.010599</td>\n",
       "      <td>0.072740</td>\n",
       "      <td>0.072246</td>\n",
       "      <td>0.003278</td>\n",
       "      <td>0.025960</td>\n",
       "      <td>0.857526</td>\n",
       "      <td>1.000000</td>\n",
       "    </tr>\n",
       "  </tbody>\n",
       "</table>\n",
       "</div>"
      ],
      "text/plain": [
       "                id     cont1     cont2     cont3     cont4     cont5  \\\n",
       "id        1.000000  0.002130  0.000783  0.000816  0.002578  0.000775   \n",
       "cont1     0.002130  1.000000 -0.085180 -0.445431  0.367549 -0.025230   \n",
       "cont2     0.000783 -0.085180  1.000000  0.455861  0.038693  0.191427   \n",
       "cont3     0.000816 -0.445431  0.455861  1.000000 -0.341633  0.089417   \n",
       "cont4     0.002578  0.367549  0.038693 -0.341633  1.000000  0.163748   \n",
       "cont5     0.000775 -0.025230  0.191427  0.089417  0.163748  1.000000   \n",
       "cont6     0.001426  0.758315  0.015864 -0.349278  0.220932 -0.149810   \n",
       "cont7     0.002209  0.367384  0.048187  0.097516 -0.115064 -0.249344   \n",
       "cont8     0.005534  0.361163  0.137468 -0.185432  0.528740  0.009015   \n",
       "cont9     0.001870  0.929912 -0.032729 -0.417054  0.328961 -0.088202   \n",
       "cont10    0.002582  0.808551  0.063526 -0.325562  0.283294 -0.064967   \n",
       "cont11    0.001075  0.596090  0.116824  0.025271  0.120927 -0.151548   \n",
       "cont12    0.000889  0.614225  0.106250  0.006111  0.130453 -0.148217   \n",
       "cont13    0.000442  0.534850  0.023335 -0.418203  0.179342 -0.082915   \n",
       "cont14   -0.004924  0.056688 -0.045584 -0.039592  0.017445 -0.021638   \n",
       "loss     -0.001122 -0.010237  0.141528  0.111053 -0.035831 -0.011355   \n",
       "log_loss -0.000022 -0.007325  0.104627  0.081518 -0.027521 -0.014962   \n",
       "\n",
       "             cont6     cont7     cont8     cont9    cont10    cont11  \\\n",
       "id        0.001426  0.002209  0.005534  0.001870  0.002582  0.001075   \n",
       "cont1     0.758315  0.367384  0.361163  0.929912  0.808551  0.596090   \n",
       "cont2     0.015864  0.048187  0.137468 -0.032729  0.063526  0.116824   \n",
       "cont3    -0.349278  0.097516 -0.185432 -0.417054 -0.325562  0.025271   \n",
       "cont4     0.220932 -0.115064  0.528740  0.328961  0.283294  0.120927   \n",
       "cont5    -0.149810 -0.249344  0.009015 -0.088202 -0.064967 -0.151548   \n",
       "cont6     1.000000  0.658918  0.437437  0.797544  0.883351  0.773745   \n",
       "cont7     0.658918  1.000000  0.142042  0.384343  0.492621  0.747108   \n",
       "cont8     0.437437  0.142042  1.000000  0.452658  0.336588  0.302381   \n",
       "cont9     0.797544  0.384343  0.452658  1.000000  0.785697  0.608000   \n",
       "cont10    0.883351  0.492621  0.336588  0.785697  1.000000  0.702896   \n",
       "cont11    0.773745  0.747108  0.302381  0.608000  0.702896  1.000000   \n",
       "cont12    0.785144  0.742712  0.315904  0.626656  0.713812  0.994384   \n",
       "cont13    0.815091  0.288395  0.476402  0.642028  0.707876  0.466247   \n",
       "cont14    0.042178  0.022286  0.043539  0.074154  0.041808  0.047293   \n",
       "loss      0.040967  0.119799  0.030508  0.014456  0.020236  0.099806   \n",
       "log_loss  0.031509  0.085073  0.032028  0.017422  0.010599  0.072740   \n",
       "\n",
       "            cont12    cont13    cont14      loss  log_loss  \n",
       "id        0.000889  0.000442 -0.004924 -0.001122 -0.000022  \n",
       "cont1     0.614225  0.534850  0.056688 -0.010237 -0.007325  \n",
       "cont2     0.106250  0.023335 -0.045584  0.141528  0.104627  \n",
       "cont3     0.006111 -0.418203 -0.039592  0.111053  0.081518  \n",
       "cont4     0.130453  0.179342  0.017445 -0.035831 -0.027521  \n",
       "cont5    -0.148217 -0.082915 -0.021638 -0.011355 -0.014962  \n",
       "cont6     0.785144  0.815091  0.042178  0.040967  0.031509  \n",
       "cont7     0.742712  0.288395  0.022286  0.119799  0.085073  \n",
       "cont8     0.315904  0.476402  0.043539  0.030508  0.032028  \n",
       "cont9     0.626656  0.642028  0.074154  0.014456  0.017422  \n",
       "cont10    0.713812  0.707876  0.041808  0.020236  0.010599  \n",
       "cont11    0.994384  0.466247  0.047293  0.099806  0.072740  \n",
       "cont12    1.000000  0.478677  0.050267  0.098724  0.072246  \n",
       "cont13    0.478677  1.000000  0.047543 -0.004022  0.003278  \n",
       "cont14    0.050267  0.047543  1.000000  0.019298  0.025960  \n",
       "loss      0.098724 -0.004022  0.019298  1.000000  0.857526  \n",
       "log_loss  0.072246  0.003278  0.025960  0.857526  1.000000  "
      ]
     },
     "execution_count": 12,
     "metadata": {},
     "output_type": "execute_result"
    }
   ],
   "source": [
    "train_df2.corr()"
   ]
  },
  {
   "cell_type": "code",
   "execution_count": 13,
   "metadata": {
    "collapsed": true
   },
   "outputs": [],
   "source": [
    "cont_vars = [\"cont{}\".format(i) for i in range(1, 15)]"
   ]
  },
  {
   "cell_type": "code",
   "execution_count": 14,
   "metadata": {
    "collapsed": true
   },
   "outputs": [],
   "source": [
    "X_cl = np.asarray(train_df2[cont_vars])"
   ]
  },
  {
   "cell_type": "code",
   "execution_count": 17,
   "metadata": {
    "collapsed": true
   },
   "outputs": [],
   "source": [
    "km = KMeans(n_clusters=7)"
   ]
  },
  {
   "cell_type": "code",
   "execution_count": 18,
   "metadata": {
    "collapsed": false
   },
   "outputs": [],
   "source": [
    "cont_labels = km.fit_predict(X_cl)"
   ]
  },
  {
   "cell_type": "code",
   "execution_count": 19,
   "metadata": {
    "collapsed": true
   },
   "outputs": [],
   "source": [
    "pca = PCA()"
   ]
  },
  {
   "cell_type": "code",
   "execution_count": 20,
   "metadata": {
    "collapsed": false
   },
   "outputs": [
    {
     "data": {
      "text/plain": [
       "PCA(copy=True, iterated_power='auto', n_components=None, random_state=None,\n",
       "  svd_solver='auto', tol=0.0, whiten=False)"
      ]
     },
     "execution_count": 20,
     "metadata": {},
     "output_type": "execute_result"
    }
   ],
   "source": [
    "pca.fit(X_cl)"
   ]
  },
  {
   "cell_type": "code",
   "execution_count": 22,
   "metadata": {
    "collapsed": false
   },
   "outputs": [
    {
     "data": {
      "text/plain": [
       "<matplotlib.text.Text at 0x12099c7f0>"
      ]
     },
     "execution_count": 22,
     "metadata": {},
     "output_type": "execute_result"
    },
    {
     "data": {
      "image/png": "[encoded data removed]",
      "text/plain": [
       "<matplotlib.figure.Figure at 0x123af6cc0>"
      ]
     },
     "metadata": {},
     "output_type": "display_data"
    }
   ],
   "source": [
    "plt.figure(1)\n",
    "plt.clf()\n",
    "plt.axes([.2, .2, .7, .7])\n",
    "plt.plot(pca.explained_variance_, linewidth=2)\n",
    "plt.axis('tight')\n",
    "plt.xlabel('n_components')\n",
    "plt.ylabel('explained_variance_')"
   ]
  },
  {
   "cell_type": "code",
   "execution_count": 25,
   "metadata": {
    "collapsed": true
   },
   "outputs": [],
   "source": [
    "cat_vars = [\"cat{}\".format(i) for i in range(1, 117)]"
   ]
  },
  {
   "cell_type": "code",
   "execution_count": 26,
   "metadata": {
    "collapsed": false
   },
   "outputs": [
    {
     "data": {
      "text/html": [
       "<div>\n",
       "<table border=\"1\" class=\"dataframe\">\n",
       "  <thead>\n",
       "    <tr style=\"text-align: right;\">\n",
       "      <th></th>\n",
       "      <th>cat1</th>\n",
       "      <th>cat2</th>\n",
       "      <th>cat3</th>\n",
       "      <th>cat4</th>\n",
       "      <th>cat5</th>\n",
       "      <th>cat6</th>\n",
       "      <th>cat7</th>\n",
       "      <th>cat8</th>\n",
       "      <th>cat9</th>\n",
       "      <th>cat10</th>\n",
       "      <th>...</th>\n",
       "      <th>cat107</th>\n",
       "      <th>cat108</th>\n",
       "      <th>cat109</th>\n",
       "      <th>cat110</th>\n",
       "      <th>cat111</th>\n",
       "      <th>cat112</th>\n",
       "      <th>cat113</th>\n",
       "      <th>cat114</th>\n",
       "      <th>cat115</th>\n",
       "      <th>cat116</th>\n",
       "    </tr>\n",
       "  </thead>\n",
       "  <tbody>\n",
       "    <tr>\n",
       "      <th>0</th>\n",
       "      <td>A</td>\n",
       "      <td>B</td>\n",
       "      <td>A</td>\n",
       "      <td>B</td>\n",
       "      <td>A</td>\n",
       "      <td>A</td>\n",
       "      <td>A</td>\n",
       "      <td>A</td>\n",
       "      <td>B</td>\n",
       "      <td>A</td>\n",
       "      <td>...</td>\n",
       "      <td>J</td>\n",
       "      <td>G</td>\n",
       "      <td>BU</td>\n",
       "      <td>BC</td>\n",
       "      <td>C</td>\n",
       "      <td>AS</td>\n",
       "      <td>S</td>\n",
       "      <td>A</td>\n",
       "      <td>O</td>\n",
       "      <td>LB</td>\n",
       "    </tr>\n",
       "    <tr>\n",
       "      <th>1</th>\n",
       "      <td>A</td>\n",
       "      <td>B</td>\n",
       "      <td>A</td>\n",
       "      <td>A</td>\n",
       "      <td>A</td>\n",
       "      <td>A</td>\n",
       "      <td>A</td>\n",
       "      <td>A</td>\n",
       "      <td>B</td>\n",
       "      <td>B</td>\n",
       "      <td>...</td>\n",
       "      <td>K</td>\n",
       "      <td>K</td>\n",
       "      <td>BI</td>\n",
       "      <td>CQ</td>\n",
       "      <td>A</td>\n",
       "      <td>AV</td>\n",
       "      <td>BM</td>\n",
       "      <td>A</td>\n",
       "      <td>O</td>\n",
       "      <td>DP</td>\n",
       "    </tr>\n",
       "    <tr>\n",
       "      <th>2</th>\n",
       "      <td>A</td>\n",
       "      <td>B</td>\n",
       "      <td>A</td>\n",
       "      <td>A</td>\n",
       "      <td>B</td>\n",
       "      <td>A</td>\n",
       "      <td>A</td>\n",
       "      <td>A</td>\n",
       "      <td>B</td>\n",
       "      <td>B</td>\n",
       "      <td>...</td>\n",
       "      <td>F</td>\n",
       "      <td>A</td>\n",
       "      <td>AB</td>\n",
       "      <td>DK</td>\n",
       "      <td>A</td>\n",
       "      <td>C</td>\n",
       "      <td>AF</td>\n",
       "      <td>A</td>\n",
       "      <td>I</td>\n",
       "      <td>GK</td>\n",
       "    </tr>\n",
       "    <tr>\n",
       "      <th>3</th>\n",
       "      <td>B</td>\n",
       "      <td>B</td>\n",
       "      <td>A</td>\n",
       "      <td>B</td>\n",
       "      <td>A</td>\n",
       "      <td>A</td>\n",
       "      <td>A</td>\n",
       "      <td>A</td>\n",
       "      <td>B</td>\n",
       "      <td>A</td>\n",
       "      <td>...</td>\n",
       "      <td>K</td>\n",
       "      <td>K</td>\n",
       "      <td>BI</td>\n",
       "      <td>CS</td>\n",
       "      <td>C</td>\n",
       "      <td>N</td>\n",
       "      <td>AE</td>\n",
       "      <td>A</td>\n",
       "      <td>O</td>\n",
       "      <td>DJ</td>\n",
       "    </tr>\n",
       "    <tr>\n",
       "      <th>4</th>\n",
       "      <td>A</td>\n",
       "      <td>B</td>\n",
       "      <td>A</td>\n",
       "      <td>B</td>\n",
       "      <td>A</td>\n",
       "      <td>A</td>\n",
       "      <td>A</td>\n",
       "      <td>A</td>\n",
       "      <td>B</td>\n",
       "      <td>B</td>\n",
       "      <td>...</td>\n",
       "      <td>G</td>\n",
       "      <td>B</td>\n",
       "      <td>H</td>\n",
       "      <td>C</td>\n",
       "      <td>C</td>\n",
       "      <td>Y</td>\n",
       "      <td>BM</td>\n",
       "      <td>A</td>\n",
       "      <td>K</td>\n",
       "      <td>CK</td>\n",
       "    </tr>\n",
       "  </tbody>\n",
       "</table>\n",
       "<p>5 rows × 116 columns</p>\n",
       "</div>"
      ],
      "text/plain": [
       "  cat1 cat2 cat3 cat4 cat5 cat6 cat7 cat8 cat9 cat10  ...   cat107 cat108  \\\n",
       "0    A    B    A    B    A    A    A    A    B     A  ...        J      G   \n",
       "1    A    B    A    A    A    A    A    A    B     B  ...        K      K   \n",
       "2    A    B    A    A    B    A    A    A    B     B  ...        F      A   \n",
       "3    B    B    A    B    A    A    A    A    B     A  ...        K      K   \n",
       "4    A    B    A    B    A    A    A    A    B     B  ...        G      B   \n",
       "\n",
       "  cat109 cat110 cat111 cat112 cat113 cat114 cat115 cat116  \n",
       "0     BU     BC      C     AS      S      A      O     LB  \n",
       "1     BI     CQ      A     AV     BM      A      O     DP  \n",
       "2     AB     DK      A      C     AF      A      I     GK  \n",
       "3     BI     CS      C      N     AE      A      O     DJ  \n",
       "4      H      C      C      Y     BM      A      K     CK  \n",
       "\n",
       "[5 rows x 116 columns]"
      ]
     },
     "execution_count": 26,
     "metadata": {},
     "output_type": "execute_result"
    }
   ],
   "source": [
    "train_df[cat_vars].head()"
   ]
  },
  {
   "cell_type": "code",
   "execution_count": 60,
   "metadata": {
    "collapsed": false
   },
   "outputs": [],
   "source": [
    "# for c in cat_vars:\n",
    "#     print(\"{}: {}\".format(c, len(train_df[c].unique())))"
   ]
  },
  {
   "cell_type": "code",
   "execution_count": 29,
   "metadata": {
    "collapsed": false
   },
   "outputs": [
    {
     "data": {
      "text/plain": [
       "(188318, 132)"
      ]
     },
     "execution_count": 29,
     "metadata": {},
     "output_type": "execute_result"
    }
   ],
   "source": [
    "train_df.shape"
   ]
  },
  {
   "cell_type": "code",
   "execution_count": 30,
   "metadata": {
    "collapsed": true
   },
   "outputs": [],
   "source": [
    "num_cols_w_dums = 131\n",
    "\n",
    "for c in cat_vars:\n",
    "    num_cols_w_dums += len(train_df[c].unique()) - 1"
   ]
  },
  {
   "cell_type": "code",
   "execution_count": 31,
   "metadata": {
    "collapsed": false
   },
   "outputs": [
    {
     "data": {
      "text/plain": [
       "1154"
      ]
     },
     "execution_count": 31,
     "metadata": {},
     "output_type": "execute_result"
    }
   ],
   "source": [
    "num_cols_w_dums"
   ]
  },
  {
   "cell_type": "code",
   "execution_count": 32,
   "metadata": {
    "collapsed": true
   },
   "outputs": [],
   "source": [
    "train_df3 = train_df.copy()"
   ]
  },
  {
   "cell_type": "code",
   "execution_count": 33,
   "metadata": {
    "collapsed": true
   },
   "outputs": [],
   "source": [
    "train_df3 = pd.get_dummies(train_df3, columns=cat_vars, drop_first=True)"
   ]
  },
  {
   "cell_type": "code",
   "execution_count": 34,
   "metadata": {
    "collapsed": false
   },
   "outputs": [
    {
     "data": {
      "text/plain": [
       "(188318, 1039)"
      ]
     },
     "execution_count": 34,
     "metadata": {},
     "output_type": "execute_result"
    }
   ],
   "source": [
    "train_df3.shape"
   ]
  },
  {
   "cell_type": "code",
   "execution_count": 35,
   "metadata": {
    "collapsed": false
   },
   "outputs": [
    {
     "data": {
      "text/html": [
       "<div>\n",
       "<table border=\"1\" class=\"dataframe\">\n",
       "  <thead>\n",
       "    <tr style=\"text-align: right;\">\n",
       "      <th></th>\n",
       "      <th>id</th>\n",
       "      <th>cont1</th>\n",
       "      <th>cont2</th>\n",
       "      <th>cont3</th>\n",
       "      <th>cont4</th>\n",
       "      <th>cont5</th>\n",
       "      <th>cont6</th>\n",
       "      <th>cont7</th>\n",
       "      <th>cont8</th>\n",
       "      <th>cont9</th>\n",
       "      <th>...</th>\n",
       "      <th>cat116_P</th>\n",
       "      <th>cat116_Q</th>\n",
       "      <th>cat116_R</th>\n",
       "      <th>cat116_S</th>\n",
       "      <th>cat116_T</th>\n",
       "      <th>cat116_U</th>\n",
       "      <th>cat116_V</th>\n",
       "      <th>cat116_W</th>\n",
       "      <th>cat116_X</th>\n",
       "      <th>cat116_Y</th>\n",
       "    </tr>\n",
       "  </thead>\n",
       "  <tbody>\n",
       "    <tr>\n",
       "      <th>0</th>\n",
       "      <td>1</td>\n",
       "      <td>0.726300</td>\n",
       "      <td>0.245921</td>\n",
       "      <td>0.187583</td>\n",
       "      <td>0.789639</td>\n",
       "      <td>0.310061</td>\n",
       "      <td>0.718367</td>\n",
       "      <td>0.335060</td>\n",
       "      <td>0.30260</td>\n",
       "      <td>0.67135</td>\n",
       "      <td>...</td>\n",
       "      <td>0.0</td>\n",
       "      <td>0.0</td>\n",
       "      <td>0.0</td>\n",
       "      <td>0.0</td>\n",
       "      <td>0.0</td>\n",
       "      <td>0.0</td>\n",
       "      <td>0.0</td>\n",
       "      <td>0.0</td>\n",
       "      <td>0.0</td>\n",
       "      <td>0.0</td>\n",
       "    </tr>\n",
       "    <tr>\n",
       "      <th>1</th>\n",
       "      <td>2</td>\n",
       "      <td>0.330514</td>\n",
       "      <td>0.737068</td>\n",
       "      <td>0.592681</td>\n",
       "      <td>0.614134</td>\n",
       "      <td>0.885834</td>\n",
       "      <td>0.438917</td>\n",
       "      <td>0.436585</td>\n",
       "      <td>0.60087</td>\n",
       "      <td>0.35127</td>\n",
       "      <td>...</td>\n",
       "      <td>0.0</td>\n",
       "      <td>0.0</td>\n",
       "      <td>0.0</td>\n",
       "      <td>0.0</td>\n",
       "      <td>0.0</td>\n",
       "      <td>0.0</td>\n",
       "      <td>0.0</td>\n",
       "      <td>0.0</td>\n",
       "      <td>0.0</td>\n",
       "      <td>0.0</td>\n",
       "    </tr>\n",
       "    <tr>\n",
       "      <th>2</th>\n",
       "      <td>5</td>\n",
       "      <td>0.261841</td>\n",
       "      <td>0.358319</td>\n",
       "      <td>0.484196</td>\n",
       "      <td>0.236924</td>\n",
       "      <td>0.397069</td>\n",
       "      <td>0.289648</td>\n",
       "      <td>0.315545</td>\n",
       "      <td>0.27320</td>\n",
       "      <td>0.26076</td>\n",
       "      <td>...</td>\n",
       "      <td>0.0</td>\n",
       "      <td>0.0</td>\n",
       "      <td>0.0</td>\n",
       "      <td>0.0</td>\n",
       "      <td>0.0</td>\n",
       "      <td>0.0</td>\n",
       "      <td>0.0</td>\n",
       "      <td>0.0</td>\n",
       "      <td>0.0</td>\n",
       "      <td>0.0</td>\n",
       "    </tr>\n",
       "    <tr>\n",
       "      <th>3</th>\n",
       "      <td>10</td>\n",
       "      <td>0.321594</td>\n",
       "      <td>0.555782</td>\n",
       "      <td>0.527991</td>\n",
       "      <td>0.373816</td>\n",
       "      <td>0.422268</td>\n",
       "      <td>0.440945</td>\n",
       "      <td>0.391128</td>\n",
       "      <td>0.31796</td>\n",
       "      <td>0.32128</td>\n",
       "      <td>...</td>\n",
       "      <td>0.0</td>\n",
       "      <td>0.0</td>\n",
       "      <td>0.0</td>\n",
       "      <td>0.0</td>\n",
       "      <td>0.0</td>\n",
       "      <td>0.0</td>\n",
       "      <td>0.0</td>\n",
       "      <td>0.0</td>\n",
       "      <td>0.0</td>\n",
       "      <td>0.0</td>\n",
       "    </tr>\n",
       "    <tr>\n",
       "      <th>4</th>\n",
       "      <td>11</td>\n",
       "      <td>0.273204</td>\n",
       "      <td>0.159990</td>\n",
       "      <td>0.527991</td>\n",
       "      <td>0.473202</td>\n",
       "      <td>0.704268</td>\n",
       "      <td>0.178193</td>\n",
       "      <td>0.247408</td>\n",
       "      <td>0.24564</td>\n",
       "      <td>0.22089</td>\n",
       "      <td>...</td>\n",
       "      <td>0.0</td>\n",
       "      <td>0.0</td>\n",
       "      <td>0.0</td>\n",
       "      <td>0.0</td>\n",
       "      <td>0.0</td>\n",
       "      <td>0.0</td>\n",
       "      <td>0.0</td>\n",
       "      <td>0.0</td>\n",
       "      <td>0.0</td>\n",
       "      <td>0.0</td>\n",
       "    </tr>\n",
       "  </tbody>\n",
       "</table>\n",
       "<p>5 rows × 1039 columns</p>\n",
       "</div>"
      ],
      "text/plain": [
       "   id     cont1     cont2     cont3     cont4     cont5     cont6     cont7  \\\n",
       "0   1  0.726300  0.245921  0.187583  0.789639  0.310061  0.718367  0.335060   \n",
       "1   2  0.330514  0.737068  0.592681  0.614134  0.885834  0.438917  0.436585   \n",
       "2   5  0.261841  0.358319  0.484196  0.236924  0.397069  0.289648  0.315545   \n",
       "3  10  0.321594  0.555782  0.527991  0.373816  0.422268  0.440945  0.391128   \n",
       "4  11  0.273204  0.159990  0.527991  0.473202  0.704268  0.178193  0.247408   \n",
       "\n",
       "     cont8    cont9    ...     cat116_P  cat116_Q  cat116_R  cat116_S  \\\n",
       "0  0.30260  0.67135    ...          0.0       0.0       0.0       0.0   \n",
       "1  0.60087  0.35127    ...          0.0       0.0       0.0       0.0   \n",
       "2  0.27320  0.26076    ...          0.0       0.0       0.0       0.0   \n",
       "3  0.31796  0.32128    ...          0.0       0.0       0.0       0.0   \n",
       "4  0.24564  0.22089    ...          0.0       0.0       0.0       0.0   \n",
       "\n",
       "   cat116_T  cat116_U  cat116_V  cat116_W  cat116_X  cat116_Y  \n",
       "0       0.0       0.0       0.0       0.0       0.0       0.0  \n",
       "1       0.0       0.0       0.0       0.0       0.0       0.0  \n",
       "2       0.0       0.0       0.0       0.0       0.0       0.0  \n",
       "3       0.0       0.0       0.0       0.0       0.0       0.0  \n",
       "4       0.0       0.0       0.0       0.0       0.0       0.0  \n",
       "\n",
       "[5 rows x 1039 columns]"
      ]
     },
     "execution_count": 35,
     "metadata": {},
     "output_type": "execute_result"
    }
   ],
   "source": [
    "train_df3.head()"
   ]
  },
  {
   "cell_type": "code",
   "execution_count": 36,
   "metadata": {
    "collapsed": true
   },
   "outputs": [],
   "source": [
    "pca2 = PCA()"
   ]
  },
  {
   "cell_type": "code",
   "execution_count": 37,
   "metadata": {
    "collapsed": false
   },
   "outputs": [
    {
     "data": {
      "text/plain": [
       "PCA(copy=True, iterated_power='auto', n_components=None, random_state=None,\n",
       "  svd_solver='auto', tol=0.0, whiten=False)"
      ]
     },
     "execution_count": 37,
     "metadata": {},
     "output_type": "execute_result"
    }
   ],
   "source": [
    "pca2.fit(np.asarray(train_df3.drop(['id', 'loss'], axis=1)))"
   ]
  },
  {
   "cell_type": "code",
   "execution_count": 39,
   "metadata": {
    "collapsed": false
   },
   "outputs": [
    {
     "data": {
      "text/plain": [
       "<matplotlib.text.Text at 0x1184c8358>"
      ]
     },
     "execution_count": 39,
     "metadata": {},
     "output_type": "execute_result"
    },
    {
     "data": {
      "image/png": "[encoded data removed]",
      "text/plain": [
       "<matplotlib.figure.Figure at 0x1184b12b0>"
      ]
     },
     "metadata": {},
     "output_type": "display_data"
    }
   ],
   "source": [
    "plt.figure(1)\n",
    "plt.clf()\n",
    "plt.axes([.2, .2, .7, .7])\n",
    "plt.plot(pca2.explained_variance_, linewidth=2)\n",
    "plt.axis('tight')\n",
    "plt.xlabel('n_components')\n",
    "plt.ylabel('explained_variance_')"
   ]
  },
  {
   "cell_type": "code",
   "execution_count": 40,
   "metadata": {
    "collapsed": true
   },
   "outputs": [],
   "source": [
    "pca_200_comps = PCA(n_components=200)"
   ]
  },
  {
   "cell_type": "code",
   "execution_count": 41,
   "metadata": {
    "collapsed": true
   },
   "outputs": [],
   "source": [
    "X_pca_200 = pca_200_comps.fit_transform(np.asarray(train_df3.drop(['id', 'loss'], axis=1)))"
   ]
  },
  {
   "cell_type": "code",
   "execution_count": 42,
   "metadata": {
    "collapsed": false
   },
   "outputs": [
    {
     "data": {
      "text/plain": [
       "(188318, 200)"
      ]
     },
     "execution_count": 42,
     "metadata": {},
     "output_type": "execute_result"
    }
   ],
   "source": [
    "X_pca_200.shape"
   ]
  },
  {
   "cell_type": "code",
   "execution_count": 44,
   "metadata": {
    "collapsed": false
   },
   "outputs": [],
   "source": [
    "y_pca_200 = np.asarray(train_df3['loss']).reshape(-1, 1)"
   ]
  },
  {
   "cell_type": "code",
   "execution_count": 46,
   "metadata": {
    "collapsed": true
   },
   "outputs": [],
   "source": [
    "lm1 = LinearRegression()"
   ]
  },
  {
   "cell_type": "code",
   "execution_count": 47,
   "metadata": {
    "collapsed": false
   },
   "outputs": [
    {
     "data": {
      "text/plain": [
       "LinearRegression(copy_X=True, fit_intercept=True, n_jobs=1, normalize=False)"
      ]
     },
     "execution_count": 47,
     "metadata": {},
     "output_type": "execute_result"
    }
   ],
   "source": [
    "lm1.fit(X_pca_200, y_pca_200)"
   ]
  },
  {
   "cell_type": "code",
   "execution_count": 48,
   "metadata": {
    "collapsed": false
   },
   "outputs": [
    {
     "data": {
      "text/plain": [
       "0.48660878636242222"
      ]
     },
     "execution_count": 48,
     "metadata": {},
     "output_type": "execute_result"
    }
   ],
   "source": [
    "lm1.score(X_pca_200, y_pca_200)"
   ]
  },
  {
   "cell_type": "code",
   "execution_count": 51,
   "metadata": {
    "collapsed": true
   },
   "outputs": [],
   "source": [
    "ls = Lasso()"
   ]
  },
  {
   "cell_type": "code",
   "execution_count": 53,
   "metadata": {
    "collapsed": false
   },
   "outputs": [
    {
     "data": {
      "text/plain": [
       "array([-1301.46973484, -1300.21181102, -1301.26548536])"
      ]
     },
     "execution_count": 53,
     "metadata": {},
     "output_type": "execute_result"
    }
   ],
   "source": [
    "cross_val_score(ls, np.asarray(train_df3.drop(['id', 'loss'], axis=1)), np.asarray(train_df3['loss']).reshape(-1, 1), \n",
    "                scoring=\"neg_mean_absolute_error\")"
   ]
  },
  {
   "cell_type": "code",
   "execution_count": 56,
   "metadata": {
    "collapsed": true
   },
   "outputs": [],
   "source": [
    "rf = RandomForestRegressor(n_estimators=20, max_depth=10)"
   ]
  },
  {
   "cell_type": "code",
   "execution_count": 57,
   "metadata": {
    "collapsed": false
   },
   "outputs": [
    {
     "data": {
      "text/plain": [
       "array([-1318.28639655, -1318.34673296, -1325.12360738])"
      ]
     },
     "execution_count": 57,
     "metadata": {},
     "output_type": "execute_result"
    }
   ],
   "source": [
    "# cross_val_score(rf, np.asarray(train_df3.drop(['id', 'loss'], axis=1)), np.asarray(train_df3['loss']).reshape(-1, 1), \n",
    "#                 scoring=\"neg_mean_absolute_error\")"
   ]
  },
  {
   "cell_type": "code",
   "execution_count": 66,
   "metadata": {
    "collapsed": true
   },
   "outputs": [],
   "source": [
    "l1_mixes = np.arange(0.1, 1.0, 0.1)"
   ]
  },
  {
   "cell_type": "code",
   "execution_count": 68,
   "metadata": {
    "collapsed": false
   },
   "outputs": [],
   "source": [
    "mx_dict = dict()\n",
    "\n",
    "for l in l1_mixes:\n",
    "    en = ElasticNet(alpha=0.1, l1_ratio=l)\n",
    "    scs = cross_val_score(en, np.asarray(train_df3.drop(['id', 'loss'], axis=1)), \n",
    "                          np.asarray(train_df3['loss']).reshape(-1, 1), scoring=\"neg_mean_absolute_error\")\n",
    "    mx_dict[str(l)] = np.absolute(np.mean(scs))"
   ]
  },
  {
   "cell_type": "code",
   "execution_count": 69,
   "metadata": {
    "collapsed": false
   },
   "outputs": [
    {
     "data": {
      "text/plain": [
       "{'0.1': 1343.0202755406526,\n",
       " '0.2': 1338.3123773428736,\n",
       " '0.3': 1333.5081821294805,\n",
       " '0.4': 1328.6056862606695,\n",
       " '0.5': 1323.6300510020847,\n",
       " '0.6': 1318.5885525651422,\n",
       " '0.7': 1313.5072235605082,\n",
       " '0.8': 1308.37147433269,\n",
       " '0.9': 1303.3703064721988}"
      ]
     },
     "execution_count": 69,
     "metadata": {},
     "output_type": "execute_result"
    }
   ],
   "source": [
    "mx_dict"
   ]
  },
  {
   "cell_type": "code",
   "execution_count": null,
   "metadata": {
    "collapsed": true
   },
   "outputs": [],
   "source": []
  }
 ],
 "metadata": {
  "anaconda-cloud": {},
  "kernelspec": {
   "display_name": "Python [Root]",
   "language": "python",
   "name": "Python [Root]"
  },
  "language_info": {
   "codemirror_mode": {
    "name": "ipython",
    "version": 3
   },
   "file_extension": ".py",
   "mimetype": "text/x-python",
   "name": "python",
   "nbconvert_exporter": "python",
   "pygments_lexer": "ipython3",
   "version": "3.5.2"
  }
 },
 "nbformat": 4,
 "nbformat_minor": 0
}
